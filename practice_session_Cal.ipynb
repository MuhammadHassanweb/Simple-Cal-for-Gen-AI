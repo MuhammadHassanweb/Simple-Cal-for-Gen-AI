{
  "nbformat": 4,
  "nbformat_minor": 0,
  "metadata": {
    "colab": {
      "provenance": [],
      "authorship_tag": "ABX9TyNlJd7Fxls6MB9n8UYw8G04",
      "include_colab_link": true
    },
    "kernelspec": {
      "name": "python3",
      "display_name": "Python 3"
    },
    "language_info": {
      "name": "python"
    }
  },
  "cells": [
    {
      "cell_type": "markdown",
      "metadata": {
        "id": "view-in-github",
        "colab_type": "text"
      },
      "source": [
        "<a href=\"https://colab.research.google.com/github/MuhammadHassanweb/Simple-Cal-for-Gen-AI/blob/main/practice_session_Cal.ipynb\" target=\"_parent\"><img src=\"https://colab.research.google.com/assets/colab-badge.svg\" alt=\"Open In Colab\"/></a>"
      ]
    },
    {
      "cell_type": "code",
      "source": [
        "# Simple Calculator in Google Colab\n",
        "\n",
        "def calculator():\n",
        "    print(\"Welcome to the simple calculator!\")\n",
        "    print(\"Choose an operation:\")\n",
        "    print(\"1. Addition (+)\")\n",
        "    print(\"2. Subtraction (-)\")\n",
        "    print(\"3. Multiplication (*)\")\n",
        "    print(\"4. Division (/)\")\n",
        "\n",
        "    # Get user choice\n",
        "    operation = input(\"Enter the number corresponding to the operation (1/2/3/4): \")\n",
        "\n",
        "    # Check for valid operation\n",
        "    if operation not in ['1', '2', '3', '4']:\n",
        "        print(\"Invalid operation. Please try again.\")\n",
        "        return\n",
        "\n",
        "    # Get numbers from user\n",
        "    try:\n",
        "        num1 = float(input(\"Enter the first number: \"))\n",
        "        num2 = float(input(\"Enter the second number: \"))\n",
        "    except ValueError:\n",
        "        print(\"Invalid input. Please enter numeric values.\")\n",
        "        return\n",
        "\n",
        "    # Perform calculation\n",
        "    if operation == '1':\n",
        "        result = num1 + num2\n",
        "        print(f\"The result of addition is: {result}\")\n",
        "    elif operation == '2':\n",
        "        result = num1 - num2\n",
        "        print(f\"The result of subtraction is: {result}\")\n",
        "    elif operation == '3':\n",
        "        result = num1 * num2\n",
        "        print(f\"The result of multiplication is: {result}\")\n",
        "    elif operation == '4':\n",
        "        if num2 == 0:\n",
        "            print(\"Division by zero is not allowed.\")\n",
        "        else:\n",
        "            result = num1 / num2\n",
        "            print(f\"The result of division is: {result}\")\n",
        "\n",
        "# Run the calculator\n",
        "calculator()\n"
      ],
      "metadata": {
        "colab": {
          "base_uri": "https://localhost:8080/"
        },
        "id": "sBYe7wZD7Xgt",
        "outputId": "92f2cec5-cdb5-4ec9-c535-5fec87e29b53"
      },
      "execution_count": null,
      "outputs": [
        {
          "output_type": "stream",
          "name": "stdout",
          "text": [
            "Welcome to the simple calculator!\n",
            "Choose an operation:\n",
            "1. Addition (+)\n",
            "2. Subtraction (-)\n",
            "3. Multiplication (*)\n",
            "4. Division (/)\n",
            "Enter the number corresponding to the operation (1/2/3/4): 1\n",
            "Enter the first number: 60\n",
            "Enter the second number: 96\n",
            "The result of addition is: 156.0\n"
          ]
        }
      ]
    }
  ]
}