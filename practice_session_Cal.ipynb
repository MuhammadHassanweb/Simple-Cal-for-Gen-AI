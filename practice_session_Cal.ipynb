{
  "nbformat": 4,
  "nbformat_minor": 0,
  "metadata": {
    "colab": {
      "provenance": [],
      "authorship_tag": "ABX9TyOdAeCiDsL3c8P8DuJmi/bS",
      "include_colab_link": true
    },
    "kernelspec": {
      "name": "python3",
      "display_name": "Python 3"
    },
    "language_info": {
      "name": "python"
    }
  },
  "cells": [
    {
      "cell_type": "markdown",
      "metadata": {
        "id": "view-in-github",
        "colab_type": "text"
      },
      "source": [
        "<a href=\"https://colab.research.google.com/github/MuhammadHassanweb/Simple-Cal-for-Gen-AI/blob/main/practice_session_Cal.ipynb\" target=\"_parent\"><img src=\"https://colab.research.google.com/assets/colab-badge.svg\" alt=\"Open In Colab\"/></a>"
      ]
    },
    {
      "cell_type": "code",
      "source": [
        "import streamlit as st\n",
        "\n",
        "# Streamlit App for a Simple Calculator\n",
        "st.title(\"Simple Calculator\")\n",
        "st.write(\"Perform basic arithmetic operations: Addition, Subtraction, Multiplication, and Division.\")\n",
        "\n",
        "# User input for numbers\n",
        "num1 = st.number_input(\"Enter the first number:\", value=0.0)\n",
        "num2 = st.number_input(\"Enter the second number:\", value=0.0)\n",
        "\n",
        "# User input for the operation\n",
        "operation = st.radio(\"Choose an operation:\", (\"Addition\", \"Subtraction\", \"Multiplication\", \"Division\"))\n",
        "\n",
        "# Calculate result\n",
        "if st.button(\"Calculate\"):\n",
        "    if operation == \"Addition\":\n",
        "        result = num1 + num2\n",
        "        st.success(f\"The result of addition is: {result}\")\n",
        "    elif operation == \"Subtraction\":\n",
        "        result = num1 - num2\n",
        "        st.success(f\"The result of subtraction is: {result}\")\n",
        "    elif operation == \"Multiplication\":\n",
        "        result = num1 * num2\n",
        "        st.success(f\"The result of multiplication is: {result}\")\n",
        "    elif operation == \"Division\":\n",
        "        if num2 == 0:\n",
        "            st.error(\"Error: Division by zero is not allowed.\")\n",
        "        else:\n",
        "            result = num1 / num2\n",
        "            st.success(f\"The result of division is: {result}\")\n"
      ],
      "metadata": {
        "id": "OkrvI-U9_yd4"
      },
      "execution_count": null,
      "outputs": []
    }
  ]
}